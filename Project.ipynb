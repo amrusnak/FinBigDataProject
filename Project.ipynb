{
 "cells": [
  {
   "cell_type": "code",
   "execution_count": 3,
   "metadata": {},
   "outputs": [],
   "source": [
    "#import libraries\n",
    "\n",
    "import numpy as np\n",
    "import pandas as pd\n",
    "import datetime as dt\n",
    "import time\n",
    "import pyarrow.parquet as pq\n",
    "import matplotlib.pyplot as plt\n"
   ]
  },
  {
   "cell_type": "code",
   "execution_count": 4,
   "metadata": {},
   "outputs": [],
   "source": [
    "#read data\n",
    "\n",
    "btc = pd.read_csv('data/btcusd.csv.zip')\n",
    "eth = pd.read_csv('data/ethusd.csv.zip')\n",
    "ltc = pd.read_csv('data/ltcusd.csv.zip')"
   ]
  },
  {
   "cell_type": "code",
   "execution_count": 5,
   "metadata": {},
   "outputs": [],
   "source": [
    "btc.index = pd.to_datetime(btc.time.values, unit='ms')\n",
    "eth.index = pd.to_datetime(eth.time.values, unit='ms')\n",
    "ltc.index = pd.to_datetime(ltc.time.values, unit='ms')"
   ]
  },
  {
   "cell_type": "code",
   "execution_count": 67,
   "metadata": {},
   "outputs": [],
   "source": [
    "btc['ticker'] = 'BTCUSD'\n",
    "eth['ticker'] = 'ETHUSD'\n",
    "ltc['ticker'] = 'LTCUSD'"
   ]
  },
  {
   "cell_type": "code",
   "execution_count": 68,
   "metadata": {},
   "outputs": [
    {
     "data": {
      "text/html": [
       "<div>\n",
       "<style scoped>\n",
       "    .dataframe tbody tr th:only-of-type {\n",
       "        vertical-align: middle;\n",
       "    }\n",
       "\n",
       "    .dataframe tbody tr th {\n",
       "        vertical-align: top;\n",
       "    }\n",
       "\n",
       "    .dataframe thead th {\n",
       "        text-align: right;\n",
       "    }\n",
       "</style>\n",
       "<table border=\"1\" class=\"dataframe\">\n",
       "  <thead>\n",
       "    <tr style=\"text-align: right;\">\n",
       "      <th></th>\n",
       "      <th>time</th>\n",
       "      <th>open</th>\n",
       "      <th>close</th>\n",
       "      <th>high</th>\n",
       "      <th>low</th>\n",
       "      <th>volume</th>\n",
       "      <th>ticker</th>\n",
       "    </tr>\n",
       "  </thead>\n",
       "  <tbody>\n",
       "    <tr>\n",
       "      <th>2013-04-01 00:07:00</th>\n",
       "      <td>1364774820000</td>\n",
       "      <td>93.25</td>\n",
       "      <td>93.30</td>\n",
       "      <td>93.30</td>\n",
       "      <td>93.25</td>\n",
       "      <td>93.300000</td>\n",
       "      <td>BTCUSD</td>\n",
       "    </tr>\n",
       "    <tr>\n",
       "      <th>2013-04-01 00:08:00</th>\n",
       "      <td>1364774880000</td>\n",
       "      <td>100.00</td>\n",
       "      <td>100.00</td>\n",
       "      <td>100.00</td>\n",
       "      <td>100.00</td>\n",
       "      <td>93.300000</td>\n",
       "      <td>BTCUSD</td>\n",
       "    </tr>\n",
       "    <tr>\n",
       "      <th>2013-04-01 00:09:00</th>\n",
       "      <td>1364774940000</td>\n",
       "      <td>93.30</td>\n",
       "      <td>93.30</td>\n",
       "      <td>93.30</td>\n",
       "      <td>93.30</td>\n",
       "      <td>33.676862</td>\n",
       "      <td>BTCUSD</td>\n",
       "    </tr>\n",
       "    <tr>\n",
       "      <th>2013-04-01 00:11:00</th>\n",
       "      <td>1364775060000</td>\n",
       "      <td>93.35</td>\n",
       "      <td>93.47</td>\n",
       "      <td>93.47</td>\n",
       "      <td>93.35</td>\n",
       "      <td>20.000000</td>\n",
       "      <td>BTCUSD</td>\n",
       "    </tr>\n",
       "    <tr>\n",
       "      <th>2013-04-01 00:12:00</th>\n",
       "      <td>1364775120000</td>\n",
       "      <td>93.47</td>\n",
       "      <td>93.47</td>\n",
       "      <td>93.47</td>\n",
       "      <td>93.47</td>\n",
       "      <td>2.021627</td>\n",
       "      <td>BTCUSD</td>\n",
       "    </tr>\n",
       "  </tbody>\n",
       "</table>\n",
       "</div>"
      ],
      "text/plain": [
       "                              time    open   close    high     low     volume  \\\n",
       "2013-04-01 00:07:00  1364774820000   93.25   93.30   93.30   93.25  93.300000   \n",
       "2013-04-01 00:08:00  1364774880000  100.00  100.00  100.00  100.00  93.300000   \n",
       "2013-04-01 00:09:00  1364774940000   93.30   93.30   93.30   93.30  33.676862   \n",
       "2013-04-01 00:11:00  1364775060000   93.35   93.47   93.47   93.35  20.000000   \n",
       "2013-04-01 00:12:00  1364775120000   93.47   93.47   93.47   93.47   2.021627   \n",
       "\n",
       "                     ticker  \n",
       "2013-04-01 00:07:00  BTCUSD  \n",
       "2013-04-01 00:08:00  BTCUSD  \n",
       "2013-04-01 00:09:00  BTCUSD  \n",
       "2013-04-01 00:11:00  BTCUSD  \n",
       "2013-04-01 00:12:00  BTCUSD  "
      ]
     },
     "execution_count": 68,
     "metadata": {},
     "output_type": "execute_result"
    }
   ],
   "source": [
    "btc.head()"
   ]
  },
  {
   "cell_type": "code",
   "execution_count": 71,
   "metadata": {},
   "outputs": [],
   "source": [
    "prices = pd.concat([btc, eth, ltc])[['close', 'volume', 'ticker']]"
   ]
  },
  {
   "cell_type": "code",
   "execution_count": 72,
   "metadata": {},
   "outputs": [
    {
     "data": {
      "text/html": [
       "<div>\n",
       "<style scoped>\n",
       "    .dataframe tbody tr th:only-of-type {\n",
       "        vertical-align: middle;\n",
       "    }\n",
       "\n",
       "    .dataframe tbody tr th {\n",
       "        vertical-align: top;\n",
       "    }\n",
       "\n",
       "    .dataframe thead th {\n",
       "        text-align: right;\n",
       "    }\n",
       "</style>\n",
       "<table border=\"1\" class=\"dataframe\">\n",
       "  <thead>\n",
       "    <tr style=\"text-align: right;\">\n",
       "      <th></th>\n",
       "      <th>close</th>\n",
       "      <th>volume</th>\n",
       "      <th>ticker</th>\n",
       "    </tr>\n",
       "  </thead>\n",
       "  <tbody>\n",
       "    <tr>\n",
       "      <th>2013-04-01 00:07:00</th>\n",
       "      <td>93.30</td>\n",
       "      <td>93.300000</td>\n",
       "      <td>BTCUSD</td>\n",
       "    </tr>\n",
       "    <tr>\n",
       "      <th>2013-04-01 00:08:00</th>\n",
       "      <td>100.00</td>\n",
       "      <td>93.300000</td>\n",
       "      <td>BTCUSD</td>\n",
       "    </tr>\n",
       "    <tr>\n",
       "      <th>2013-04-01 00:09:00</th>\n",
       "      <td>93.30</td>\n",
       "      <td>33.676862</td>\n",
       "      <td>BTCUSD</td>\n",
       "    </tr>\n",
       "    <tr>\n",
       "      <th>2013-04-01 00:11:00</th>\n",
       "      <td>93.47</td>\n",
       "      <td>20.000000</td>\n",
       "      <td>BTCUSD</td>\n",
       "    </tr>\n",
       "    <tr>\n",
       "      <th>2013-04-01 00:12:00</th>\n",
       "      <td>93.47</td>\n",
       "      <td>2.021627</td>\n",
       "      <td>BTCUSD</td>\n",
       "    </tr>\n",
       "  </tbody>\n",
       "</table>\n",
       "</div>"
      ],
      "text/plain": [
       "                      close     volume  ticker\n",
       "2013-04-01 00:07:00   93.30  93.300000  BTCUSD\n",
       "2013-04-01 00:08:00  100.00  93.300000  BTCUSD\n",
       "2013-04-01 00:09:00   93.30  33.676862  BTCUSD\n",
       "2013-04-01 00:11:00   93.47  20.000000  BTCUSD\n",
       "2013-04-01 00:12:00   93.47   2.021627  BTCUSD"
      ]
     },
     "execution_count": 72,
     "metadata": {},
     "output_type": "execute_result"
    }
   ],
   "source": [
    "prices.head()"
   ]
  },
  {
   "cell_type": "code",
   "execution_count": 75,
   "metadata": {},
   "outputs": [
    {
     "data": {
      "text/plain": [
       "72.50682282447815"
      ]
     },
     "execution_count": 75,
     "metadata": {},
     "output_type": "execute_result"
    }
   ],
   "source": [
    "#save to parquet so that we can read the data quickly (it also saves quickly)\n",
    "\n",
    "t0=time.time()\n",
    "prices.to_parquet(\"prices.parquet\",allow_truncated_timestamps=True, use_deprecated_int96_timestamps=True)\n",
    "t1=time.time()\n",
    "print('Runtime: %.2f s' %(t1-t0))"
   ]
  },
  {
   "cell_type": "code",
   "execution_count": null,
   "metadata": {},
   "outputs": [],
   "source": [
    "#read parquet file\n",
    "prices=pq.read_table(\"prices.parquet\").to_pandas()"
   ]
  },
  {
   "cell_type": "code",
   "execution_count": 173,
   "metadata": {},
   "outputs": [
    {
     "data": {
      "image/png": "[encoded data removed]",
      "text/plain": [
       "<Figure size 432x288 with 1 Axes>"
      ]
     },
     "metadata": {
      "needs_background": "light"
     },
     "output_type": "display_data"
    }
   ],
   "source": [
    "btc.close.plot()\n",
    "plt.title('BTC/USD')\n",
    "plt.xlabel('Year')\n",
    "plt.ylabel('Ex. rate')\n",
    "plt.show()"
   ]
  },
  {
   "cell_type": "code",
   "execution_count": 174,
   "metadata": {},
   "outputs": [
    {
     "data": {
      "image/png": "[encoded data removed]",
      "text/plain": [
       "<Figure size 432x288 with 1 Axes>"
      ]
     },
     "metadata": {
      "needs_background": "light"
     },
     "output_type": "display_data"
    }
   ],
   "source": [
    "ltc.close.plot()\n",
    "eth.close.plot()\n",
    "\n",
    "plt.title('LTC/USD & ETH/USD')\n",
    "plt.xlabel('Year')\n",
    "plt.ylabel('Ex. rate')\n",
    "plt.legend(['LTC/USD', 'ETH/USD'])\n",
    "plt.show()\n",
    "plt.show()"
   ]
  },
  {
   "cell_type": "code",
   "execution_count": 175,
   "metadata": {},
   "outputs": [
    {
     "data": {
      "image/png": "[encoded data removed]",
      "text/plain": [
       "<Figure size 432x288 with 1 Axes>"
      ]
     },
     "metadata": {
      "needs_background": "light"
     },
     "output_type": "display_data"
    }
   ],
   "source": [
    "btc[btc.index.date == dt.date(2020,8,2)].close.plot()\n",
    "\n",
    "plt.xlabel('Time')\n",
    "plt.ylabel('Ex. rate')\n",
    "plt.legend(['BTC/USD'])\n",
    "plt.title('BTC Flash Crash')\n",
    "plt.show()\n",
    "plt.show()"
   ]
  },
  {
   "cell_type": "code",
   "execution_count": 176,
   "metadata": {},
   "outputs": [
    {
     "data": {
      "image/png": "[encoded data removed]",
      "text/plain": [
       "<Figure size 432x288 with 1 Axes>"
      ]
     },
     "metadata": {
      "needs_background": "light"
     },
     "output_type": "display_data"
    }
   ],
   "source": [
    "btc[(btc.index.date == dt.date(2020,8,2)) & (btc.index.time > dt.time(4,30)) & (btc.index.time < dt.time(5,0))].close.plot()\n",
    "\n",
    "plt.xlabel('Time')\n",
    "plt.ylabel('Ex. rate')\n",
    "plt.legend(['BTC/USD'])\n",
    "plt.title('BTC Flash Crash zoomed in')\n",
    "plt.show()\n"
   ]
  },
  {
   "cell_type": "code",
   "execution_count": 109,
   "metadata": {},
   "outputs": [],
   "source": []
  },
  {
   "cell_type": "code",
   "execution_count": 107,
   "metadata": {},
   "outputs": [],
   "source": [
    "# @dask.delayed\n",
    "def label_data(data,\n",
    "    timespan = 15, #minutes\n",
    "    change = 0.05): #0.1 - 10% change\n",
    "\n",
    "    crash = []\n",
    "\n",
    "    for i in np.arange(sum(flashcrash.index <= flashcrash.index.max() - dt.timedelta(minutes = timespan))):\n",
    "\n",
    "        if any(abs(flashcrash[(flashcrash.index < flashcrash.index[i] + dt.timedelta(minutes = timespan)) & (flashcrash.index >= flashcrash.index[i])].values.cumsum()) > change):\n",
    "            crash.append(flashcrash.index[i])\n",
    "    \n",
    "    return crash"
   ]
  },
  {
   "cell_type": "code",
   "execution_count": 100,
   "metadata": {},
   "outputs": [
    {
     "name": "stdout",
     "output_type": "stream",
     "text": [
      "Runtime: 2853.33 s\n"
     ]
    }
   ],
   "source": [
    "t0=time.time()\n",
    "crash = label_data(flashcrash)\n",
    "crashes = dask.compute(crash)\n",
    "t1=time.time()\n",
    "print('Runtime: %.2f s' %(t1-t0))"
   ]
  },
  {
   "cell_type": "code",
   "execution_count": 140,
   "metadata": {},
   "outputs": [
    {
     "data": {
      "text/plain": [
       "([Timestamp('2020-03-12 10:13:00'),\n",
       "  Timestamp('2020-03-12 10:14:00'),\n",
       "  Timestamp('2020-03-12 10:15:00'),\n",
       "  Timestamp('2020-03-12 10:16:00'),\n",
       "  Timestamp('2020-03-12 10:17:00'),\n",
       "  Timestamp('2020-03-12 10:18:00'),\n",
       "  Timestamp('2020-03-12 10:19:00'),\n",
       "  Timestamp('2020-03-12 10:20:00'),\n",
       "  Timestamp('2020-03-12 10:21:00'),\n",
       "  Timestamp('2020-03-12 10:22:00'),\n",
       "  Timestamp('2020-03-12 10:23:00'),\n",
       "  Timestamp('2020-03-12 10:24:00'),\n",
       "  Timestamp('2020-03-12 10:25:00'),\n",
       "  Timestamp('2020-03-12 10:26:00'),\n",
       "  Timestamp('2020-03-12 10:27:00'),\n",
       "  Timestamp('2020-03-12 10:28:00'),\n",
       "  Timestamp('2020-03-12 10:29:00'),\n",
       "  Timestamp('2020-03-12 10:30:00'),\n",
       "  Timestamp('2020-03-12 10:31:00'),\n",
       "  Timestamp('2020-03-12 10:32:00'),\n",
       "  Timestamp('2020-03-12 10:33:00'),\n",
       "  Timestamp('2020-03-12 10:34:00'),\n",
       "  Timestamp('2020-03-12 10:35:00'),\n",
       "  Timestamp('2020-03-12 10:36:00'),\n",
       "  Timestamp('2020-03-12 10:37:00'),\n",
       "  Timestamp('2020-03-12 10:38:00'),\n",
       "  Timestamp('2020-03-12 10:39:00'),\n",
       "  Timestamp('2020-03-12 10:40:00'),\n",
       "  Timestamp('2020-03-12 10:41:00'),\n",
       "  Timestamp('2020-03-12 10:42:00'),\n",
       "  Timestamp('2020-03-12 10:43:00'),\n",
       "  Timestamp('2020-03-12 10:44:00'),\n",
       "  Timestamp('2020-03-12 10:47:00'),\n",
       "  Timestamp('2020-03-12 10:48:00'),\n",
       "  Timestamp('2020-03-12 10:49:00'),\n",
       "  Timestamp('2020-03-12 10:54:00'),\n",
       "  Timestamp('2020-03-12 10:55:00'),\n",
       "  Timestamp('2020-03-12 10:56:00'),\n",
       "  Timestamp('2020-03-12 10:57:00'),\n",
       "  Timestamp('2020-03-12 11:19:00'),\n",
       "  Timestamp('2020-03-12 11:20:00'),\n",
       "  Timestamp('2020-03-12 22:55:00'),\n",
       "  Timestamp('2020-03-12 22:56:00'),\n",
       "  Timestamp('2020-03-12 22:57:00'),\n",
       "  Timestamp('2020-03-12 22:58:00'),\n",
       "  Timestamp('2020-03-12 22:59:00'),\n",
       "  Timestamp('2020-03-12 23:00:00'),\n",
       "  Timestamp('2020-03-12 23:01:00'),\n",
       "  Timestamp('2020-03-12 23:02:00'),\n",
       "  Timestamp('2020-03-12 23:03:00'),\n",
       "  Timestamp('2020-03-12 23:04:00'),\n",
       "  Timestamp('2020-03-12 23:05:00'),\n",
       "  Timestamp('2020-03-12 23:06:00'),\n",
       "  Timestamp('2020-03-12 23:07:00'),\n",
       "  Timestamp('2020-03-12 23:08:00'),\n",
       "  Timestamp('2020-03-12 23:09:00'),\n",
       "  Timestamp('2020-03-12 23:10:00'),\n",
       "  Timestamp('2020-03-12 23:11:00'),\n",
       "  Timestamp('2020-03-12 23:12:00'),\n",
       "  Timestamp('2020-03-12 23:13:00'),\n",
       "  Timestamp('2020-03-12 23:14:00'),\n",
       "  Timestamp('2020-03-12 23:15:00'),\n",
       "  Timestamp('2020-03-12 23:16:00'),\n",
       "  Timestamp('2020-03-12 23:17:00'),\n",
       "  Timestamp('2020-03-12 23:18:00'),\n",
       "  Timestamp('2020-03-12 23:19:00'),\n",
       "  Timestamp('2020-03-12 23:20:00'),\n",
       "  Timestamp('2020-03-12 23:21:00'),\n",
       "  Timestamp('2020-03-12 23:22:00'),\n",
       "  Timestamp('2020-03-12 23:23:00'),\n",
       "  Timestamp('2020-03-12 23:24:00'),\n",
       "  Timestamp('2020-03-13 01:28:00'),\n",
       "  Timestamp('2020-03-13 01:29:00'),\n",
       "  Timestamp('2020-03-13 01:30:00'),\n",
       "  Timestamp('2020-03-13 01:31:00'),\n",
       "  Timestamp('2020-03-13 01:32:00'),\n",
       "  Timestamp('2020-03-13 01:33:00'),\n",
       "  Timestamp('2020-03-13 01:34:00'),\n",
       "  Timestamp('2020-03-13 01:35:00'),\n",
       "  Timestamp('2020-03-13 01:36:00'),\n",
       "  Timestamp('2020-03-13 01:37:00'),\n",
       "  Timestamp('2020-03-13 01:38:00'),\n",
       "  Timestamp('2020-03-13 01:39:00'),\n",
       "  Timestamp('2020-03-13 01:40:00'),\n",
       "  Timestamp('2020-03-13 01:41:00'),\n",
       "  Timestamp('2020-03-13 01:42:00'),\n",
       "  Timestamp('2020-03-13 01:43:00'),\n",
       "  Timestamp('2020-03-13 01:44:00'),\n",
       "  Timestamp('2020-03-13 01:45:00'),\n",
       "  Timestamp('2020-03-13 01:46:00'),\n",
       "  Timestamp('2020-03-13 01:47:00'),\n",
       "  Timestamp('2020-03-13 01:48:00'),\n",
       "  Timestamp('2020-03-13 01:49:00'),\n",
       "  Timestamp('2020-03-13 01:50:00'),\n",
       "  Timestamp('2020-03-13 01:51:00'),\n",
       "  Timestamp('2020-03-13 01:52:00'),\n",
       "  Timestamp('2020-03-13 01:53:00'),\n",
       "  Timestamp('2020-03-13 01:54:00'),\n",
       "  Timestamp('2020-03-13 02:01:00'),\n",
       "  Timestamp('2020-03-13 02:02:00'),\n",
       "  Timestamp('2020-03-13 02:03:00'),\n",
       "  Timestamp('2020-03-13 02:04:00'),\n",
       "  Timestamp('2020-03-13 02:05:00'),\n",
       "  Timestamp('2020-03-13 02:06:00'),\n",
       "  Timestamp('2020-03-13 02:07:00'),\n",
       "  Timestamp('2020-03-13 02:08:00'),\n",
       "  Timestamp('2020-03-13 02:09:00'),\n",
       "  Timestamp('2020-03-13 02:10:00'),\n",
       "  Timestamp('2020-03-13 02:11:00'),\n",
       "  Timestamp('2020-03-13 02:12:00'),\n",
       "  Timestamp('2020-03-13 02:13:00'),\n",
       "  Timestamp('2020-03-13 02:14:00'),\n",
       "  Timestamp('2020-03-13 02:15:00'),\n",
       "  Timestamp('2020-03-13 02:16:00'),\n",
       "  Timestamp('2020-03-13 02:17:00'),\n",
       "  Timestamp('2020-03-13 02:18:00'),\n",
       "  Timestamp('2020-03-13 02:19:00'),\n",
       "  Timestamp('2020-03-13 02:20:00'),\n",
       "  Timestamp('2020-03-13 02:21:00'),\n",
       "  Timestamp('2020-03-13 02:22:00'),\n",
       "  Timestamp('2020-03-13 02:23:00'),\n",
       "  Timestamp('2020-03-13 02:24:00'),\n",
       "  Timestamp('2020-03-13 02:25:00'),\n",
       "  Timestamp('2020-03-13 02:26:00'),\n",
       "  Timestamp('2020-03-13 02:27:00'),\n",
       "  Timestamp('2020-03-13 02:28:00'),\n",
       "  Timestamp('2020-03-13 02:29:00'),\n",
       "  Timestamp('2020-03-13 02:30:00'),\n",
       "  Timestamp('2020-03-13 02:31:00'),\n",
       "  Timestamp('2020-03-13 02:32:00'),\n",
       "  Timestamp('2020-03-13 02:33:00'),\n",
       "  Timestamp('2020-03-13 02:34:00'),\n",
       "  Timestamp('2020-03-13 02:35:00'),\n",
       "  Timestamp('2020-03-13 02:44:00'),\n",
       "  Timestamp('2020-03-13 02:45:00'),\n",
       "  Timestamp('2020-03-13 02:56:00'),\n",
       "  Timestamp('2020-03-13 04:58:00'),\n",
       "  Timestamp('2020-03-13 14:38:00'),\n",
       "  Timestamp('2020-03-13 19:33:00'),\n",
       "  Timestamp('2020-03-13 19:34:00'),\n",
       "  Timestamp('2020-03-13 19:35:00'),\n",
       "  Timestamp('2020-03-13 19:36:00'),\n",
       "  Timestamp('2020-03-13 19:37:00'),\n",
       "  Timestamp('2020-03-13 19:38:00'),\n",
       "  Timestamp('2020-03-13 19:40:00'),\n",
       "  Timestamp('2020-03-15 21:58:00'),\n",
       "  Timestamp('2020-03-15 21:59:00'),\n",
       "  Timestamp('2020-03-15 22:00:00'),\n",
       "  Timestamp('2020-05-09 23:50:00'),\n",
       "  Timestamp('2020-05-09 23:51:00'),\n",
       "  Timestamp('2020-05-09 23:52:00'),\n",
       "  Timestamp('2020-05-09 23:53:00'),\n",
       "  Timestamp('2020-05-09 23:54:00'),\n",
       "  Timestamp('2020-05-09 23:55:00'),\n",
       "  Timestamp('2020-05-09 23:56:00'),\n",
       "  Timestamp('2020-05-09 23:57:00'),\n",
       "  Timestamp('2020-05-09 23:58:00'),\n",
       "  Timestamp('2020-05-09 23:59:00'),\n",
       "  Timestamp('2020-05-10 00:00:00'),\n",
       "  Timestamp('2020-05-10 00:01:00'),\n",
       "  Timestamp('2020-05-10 00:02:00'),\n",
       "  Timestamp('2020-05-10 00:03:00'),\n",
       "  Timestamp('2020-05-10 00:04:00'),\n",
       "  Timestamp('2020-05-10 00:05:00'),\n",
       "  Timestamp('2020-05-10 00:06:00'),\n",
       "  Timestamp('2020-05-10 00:07:00'),\n",
       "  Timestamp('2020-05-10 00:08:00'),\n",
       "  Timestamp('2020-05-10 00:09:00'),\n",
       "  Timestamp('2020-05-10 00:10:00'),\n",
       "  Timestamp('2020-05-10 00:11:00'),\n",
       "  Timestamp('2020-05-10 00:12:00'),\n",
       "  Timestamp('2020-05-10 00:13:00'),\n",
       "  Timestamp('2020-05-10 00:14:00'),\n",
       "  Timestamp('2020-05-10 00:15:00'),\n",
       "  Timestamp('2020-05-10 00:16:00'),\n",
       "  Timestamp('2020-05-10 00:17:00'),\n",
       "  Timestamp('2020-08-02 04:11:00'),\n",
       "  Timestamp('2020-08-02 04:12:00'),\n",
       "  Timestamp('2020-08-02 04:13:00'),\n",
       "  Timestamp('2020-08-02 04:14:00'),\n",
       "  Timestamp('2020-08-02 04:15:00'),\n",
       "  Timestamp('2020-08-02 04:16:00'),\n",
       "  Timestamp('2020-08-02 04:17:00'),\n",
       "  Timestamp('2020-08-02 04:18:00'),\n",
       "  Timestamp('2020-08-02 04:19:00'),\n",
       "  Timestamp('2020-08-02 04:20:00'),\n",
       "  Timestamp('2020-08-02 04:21:00'),\n",
       "  Timestamp('2020-08-02 04:22:00'),\n",
       "  Timestamp('2020-08-02 04:23:00'),\n",
       "  Timestamp('2020-08-02 04:24:00'),\n",
       "  Timestamp('2020-08-02 04:25:00'),\n",
       "  Timestamp('2020-08-02 04:26:00'),\n",
       "  Timestamp('2020-08-02 04:27:00'),\n",
       "  Timestamp('2020-08-02 04:28:00'),\n",
       "  Timestamp('2020-08-02 04:29:00'),\n",
       "  Timestamp('2020-08-02 04:30:00'),\n",
       "  Timestamp('2020-08-02 04:31:00'),\n",
       "  Timestamp('2020-08-02 04:32:00'),\n",
       "  Timestamp('2020-08-02 04:33:00'),\n",
       "  Timestamp('2020-08-02 04:34:00'),\n",
       "  Timestamp('2020-08-02 04:35:00'),\n",
       "  Timestamp('2020-08-02 04:36:00'),\n",
       "  Timestamp('2020-08-02 04:37:00'),\n",
       "  Timestamp('2020-08-02 04:38:00')],)"
      ]
     },
     "execution_count": 140,
     "metadata": {},
     "output_type": "execute_result"
    }
   ],
   "source": [
    "crashes"
   ]
  },
  {
   "cell_type": "code",
   "execution_count": 115,
   "metadata": {},
   "outputs": [
    {
     "name": "stdout",
     "output_type": "stream",
     "text": [
      "Runtime: 24.42 s\n"
     ]
    }
   ],
   "source": [
    "t0=time.time()\n",
    "flashcrash = np.log(btc[(btc.index.date >= dt.date(2020,1,1)) & (btc.index.date <= dt.date(2020,2,1))].close).diff()[1:]\n",
    "crash = label_data(flashcrash, timespan = 15, change = 0.02)\n",
    "t1=time.time()\n",
    "print('Runtime: %.2f s' %(t1-t0))"
   ]
  },
  {
   "cell_type": "code",
   "execution_count": 139,
   "metadata": {},
   "outputs": [
    {
     "data": {
      "text/plain": [
       "array([Timestamp('2020-01-02 16:34:00'), Timestamp('2020-01-02 16:35:00'),\n",
       "       Timestamp('2020-01-02 16:36:00'), Timestamp('2020-01-02 16:37:00'),\n",
       "       Timestamp('2020-01-02 16:38:00'), Timestamp('2020-01-02 16:39:00'),\n",
       "       Timestamp('2020-01-02 16:40:00'), Timestamp('2020-01-02 16:41:00'),\n",
       "       Timestamp('2020-01-02 16:42:00'), Timestamp('2020-01-02 16:43:00'),\n",
       "       Timestamp('2020-01-02 16:44:00'), Timestamp('2020-01-02 16:45:00'),\n",
       "       Timestamp('2020-01-02 16:46:00'), Timestamp('2020-01-02 16:47:00'),\n",
       "       Timestamp('2020-01-03 04:14:00'), Timestamp('2020-01-03 04:15:00'),\n",
       "       Timestamp('2020-01-03 04:16:00'), Timestamp('2020-01-03 04:17:00'),\n",
       "       Timestamp('2020-01-03 04:18:00'), Timestamp('2020-01-03 04:19:00'),\n",
       "       Timestamp('2020-01-03 04:20:00'), Timestamp('2020-01-03 04:21:00'),\n",
       "       Timestamp('2020-01-03 04:22:00'), Timestamp('2020-01-03 04:23:00'),\n",
       "       Timestamp('2020-01-03 04:24:00'), Timestamp('2020-01-03 04:25:00'),\n",
       "       Timestamp('2020-01-03 04:26:00'), Timestamp('2020-01-03 04:27:00'),\n",
       "       Timestamp('2020-01-03 04:28:00'), Timestamp('2020-01-03 04:29:00'),\n",
       "       Timestamp('2020-01-03 04:30:00'), Timestamp('2020-01-03 04:31:00'),\n",
       "       Timestamp('2020-01-03 04:32:00'), Timestamp('2020-01-03 04:33:00'),\n",
       "       Timestamp('2020-01-03 04:34:00'), Timestamp('2020-01-03 04:35:00'),\n",
       "       Timestamp('2020-01-03 04:36:00'), Timestamp('2020-01-03 04:37:00'),\n",
       "       Timestamp('2020-01-03 04:38:00'), Timestamp('2020-01-03 04:39:00'),\n",
       "       Timestamp('2020-01-03 04:40:00'), Timestamp('2020-01-03 04:41:00'),\n",
       "       Timestamp('2020-01-03 04:42:00'), Timestamp('2020-01-03 04:43:00'),\n",
       "       Timestamp('2020-01-07 18:07:00'), Timestamp('2020-01-07 23:42:00'),\n",
       "       Timestamp('2020-01-07 23:43:00'), Timestamp('2020-01-07 23:51:00'),\n",
       "       Timestamp('2020-01-07 23:52:00'), Timestamp('2020-01-07 23:53:00'),\n",
       "       Timestamp('2020-01-07 23:54:00'), Timestamp('2020-01-07 23:55:00'),\n",
       "       Timestamp('2020-01-08 00:00:00'), Timestamp('2020-01-08 13:17:00'),\n",
       "       Timestamp('2020-01-08 13:18:00'), Timestamp('2020-01-08 13:21:00'),\n",
       "       Timestamp('2020-01-08 16:12:00'), Timestamp('2020-01-08 16:13:00'),\n",
       "       Timestamp('2020-01-08 16:14:00'), Timestamp('2020-01-08 16:15:00'),\n",
       "       Timestamp('2020-01-08 16:16:00'), Timestamp('2020-01-08 16:17:00'),\n",
       "       Timestamp('2020-01-08 16:18:00'), Timestamp('2020-01-08 16:19:00'),\n",
       "       Timestamp('2020-01-08 16:20:00'), Timestamp('2020-01-08 16:21:00'),\n",
       "       Timestamp('2020-01-08 16:22:00'), Timestamp('2020-01-08 16:23:00'),\n",
       "       Timestamp('2020-01-08 16:24:00'), Timestamp('2020-01-08 16:25:00'),\n",
       "       Timestamp('2020-01-08 16:26:00'), Timestamp('2020-01-08 16:27:00'),\n",
       "       Timestamp('2020-01-08 16:28:00'), Timestamp('2020-01-08 16:29:00'),\n",
       "       Timestamp('2020-01-08 16:33:00'), Timestamp('2020-01-08 16:34:00'),\n",
       "       Timestamp('2020-01-09 20:29:00'), Timestamp('2020-01-09 20:31:00'),\n",
       "       Timestamp('2020-01-09 20:32:00'), Timestamp('2020-01-09 20:33:00'),\n",
       "       Timestamp('2020-01-09 20:34:00'), Timestamp('2020-01-09 20:35:00'),\n",
       "       Timestamp('2020-01-09 20:36:00'), Timestamp('2020-01-09 20:37:00'),\n",
       "       Timestamp('2020-01-09 20:38:00'), Timestamp('2020-01-09 20:39:00'),\n",
       "       Timestamp('2020-01-09 20:40:00'), Timestamp('2020-01-09 20:41:00'),\n",
       "       Timestamp('2020-01-09 20:42:00'), Timestamp('2020-01-09 20:43:00'),\n",
       "       Timestamp('2020-01-09 20:44:00'), Timestamp('2020-01-09 20:45:00'),\n",
       "       Timestamp('2020-01-09 20:46:00'), Timestamp('2020-01-09 20:47:00'),\n",
       "       Timestamp('2020-01-09 20:48:00'), Timestamp('2020-01-09 20:49:00'),\n",
       "       Timestamp('2020-01-09 20:50:00'), Timestamp('2020-01-10 17:54:00'),\n",
       "       Timestamp('2020-01-10 17:55:00'), Timestamp('2020-01-10 17:56:00'),\n",
       "       Timestamp('2020-01-11 21:40:00'), Timestamp('2020-01-11 21:41:00'),\n",
       "       Timestamp('2020-01-11 21:42:00'), Timestamp('2020-01-11 21:43:00'),\n",
       "       Timestamp('2020-01-11 21:44:00'), Timestamp('2020-01-11 21:45:00'),\n",
       "       Timestamp('2020-01-11 21:46:00'), Timestamp('2020-01-11 21:47:00'),\n",
       "       Timestamp('2020-01-11 21:48:00'), Timestamp('2020-01-14 00:20:00'),\n",
       "       Timestamp('2020-01-14 00:21:00'), Timestamp('2020-01-14 00:22:00'),\n",
       "       Timestamp('2020-01-14 00:23:00'), Timestamp('2020-01-14 00:24:00'),\n",
       "       Timestamp('2020-01-14 00:25:00'), Timestamp('2020-01-14 00:37:00'),\n",
       "       Timestamp('2020-01-14 00:38:00'), Timestamp('2020-01-14 00:39:00'),\n",
       "       Timestamp('2020-01-14 00:40:00'), Timestamp('2020-01-14 00:41:00'),\n",
       "       Timestamp('2020-01-14 15:53:00'), Timestamp('2020-01-14 15:57:00'),\n",
       "       Timestamp('2020-01-14 15:58:00'), Timestamp('2020-01-14 15:59:00'),\n",
       "       Timestamp('2020-01-14 16:36:00'), Timestamp('2020-01-14 16:37:00'),\n",
       "       Timestamp('2020-01-14 16:38:00'), Timestamp('2020-01-14 16:39:00'),\n",
       "       Timestamp('2020-01-15 00:06:00'), Timestamp('2020-01-19 10:32:00'),\n",
       "       Timestamp('2020-01-19 10:33:00'), Timestamp('2020-01-19 10:34:00'),\n",
       "       Timestamp('2020-01-19 10:35:00'), Timestamp('2020-01-19 10:36:00'),\n",
       "       Timestamp('2020-01-19 10:37:00'), Timestamp('2020-01-19 10:38:00'),\n",
       "       Timestamp('2020-01-19 10:39:00'), Timestamp('2020-01-19 10:40:00'),\n",
       "       Timestamp('2020-01-19 10:41:00'), Timestamp('2020-01-19 10:42:00'),\n",
       "       Timestamp('2020-01-19 10:44:00'), Timestamp('2020-01-19 10:45:00'),\n",
       "       Timestamp('2020-01-19 10:46:00'), Timestamp('2020-01-19 10:47:00'),\n",
       "       Timestamp('2020-01-19 10:48:00'), Timestamp('2020-01-19 10:49:00'),\n",
       "       Timestamp('2020-01-19 10:50:00'), Timestamp('2020-01-19 10:51:00'),\n",
       "       Timestamp('2020-01-19 10:52:00'), Timestamp('2020-01-19 10:53:00'),\n",
       "       Timestamp('2020-01-19 10:54:00'), Timestamp('2020-01-19 10:55:00'),\n",
       "       Timestamp('2020-01-19 10:56:00'), Timestamp('2020-01-19 10:57:00'),\n",
       "       Timestamp('2020-01-19 10:58:00'), Timestamp('2020-01-19 10:59:00'),\n",
       "       Timestamp('2020-01-19 11:00:00'), Timestamp('2020-01-19 11:01:00'),\n",
       "       Timestamp('2020-01-19 11:02:00'), Timestamp('2020-01-19 21:46:00'),\n",
       "       Timestamp('2020-01-19 21:47:00'), Timestamp('2020-01-19 21:48:00'),\n",
       "       Timestamp('2020-01-19 21:49:00'), Timestamp('2020-01-19 21:50:00'),\n",
       "       Timestamp('2020-01-19 21:51:00'), Timestamp('2020-01-19 22:05:00'),\n",
       "       Timestamp('2020-01-19 22:06:00'), Timestamp('2020-01-19 22:07:00'),\n",
       "       Timestamp('2020-01-19 22:08:00'), Timestamp('2020-01-19 22:09:00'),\n",
       "       Timestamp('2020-01-19 22:10:00'), Timestamp('2020-01-19 22:11:00'),\n",
       "       Timestamp('2020-01-19 22:12:00'), Timestamp('2020-01-19 22:13:00'),\n",
       "       Timestamp('2020-01-19 22:14:00'), Timestamp('2020-01-21 19:50:00'),\n",
       "       Timestamp('2020-01-21 19:51:00'), Timestamp('2020-01-21 19:52:00'),\n",
       "       Timestamp('2020-01-21 19:53:00'), Timestamp('2020-01-21 19:54:00'),\n",
       "       Timestamp('2020-01-21 19:55:00'), Timestamp('2020-01-21 19:56:00'),\n",
       "       Timestamp('2020-01-21 19:58:00'), Timestamp('2020-01-21 20:00:00'),\n",
       "       Timestamp('2020-01-21 20:01:00'), Timestamp('2020-01-28 14:32:00'),\n",
       "       Timestamp('2020-01-28 14:33:00'), Timestamp('2020-01-28 14:34:00'),\n",
       "       Timestamp('2020-01-28 14:35:00'), Timestamp('2020-01-28 14:36:00'),\n",
       "       Timestamp('2020-01-28 23:07:00'), Timestamp('2020-01-28 23:08:00'),\n",
       "       Timestamp('2020-01-28 23:09:00'), Timestamp('2020-01-28 23:10:00'),\n",
       "       Timestamp('2020-01-28 23:11:00'), Timestamp('2020-01-28 23:12:00'),\n",
       "       Timestamp('2020-01-28 23:13:00'), Timestamp('2020-01-28 23:14:00'),\n",
       "       Timestamp('2020-01-28 23:15:00'), Timestamp('2020-01-28 23:16:00'),\n",
       "       Timestamp('2020-01-28 23:17:00'), Timestamp('2020-01-28 23:18:00'),\n",
       "       Timestamp('2020-01-28 23:19:00'), Timestamp('2020-01-28 23:20:00'),\n",
       "       Timestamp('2020-01-28 23:21:00'), Timestamp('2020-01-28 23:22:00'),\n",
       "       Timestamp('2020-01-28 23:23:00'), Timestamp('2020-01-28 23:24:00'),\n",
       "       Timestamp('2020-01-28 23:25:00'), Timestamp('2020-01-28 23:26:00'),\n",
       "       Timestamp('2020-01-28 23:27:00'), Timestamp('2020-01-28 23:28:00'),\n",
       "       Timestamp('2020-01-28 23:29:00'), Timestamp('2020-01-28 23:30:00'),\n",
       "       Timestamp('2020-01-28 23:31:00'), Timestamp('2020-01-28 23:32:00'),\n",
       "       Timestamp('2020-01-28 23:33:00'), Timestamp('2020-01-28 23:34:00'),\n",
       "       Timestamp('2020-01-28 23:35:00'), Timestamp('2020-01-30 16:26:00'),\n",
       "       Timestamp('2020-01-30 16:28:00'), Timestamp('2020-01-30 16:29:00')],\n",
       "      dtype=object)"
      ]
     },
     "execution_count": 139,
     "metadata": {},
     "output_type": "execute_result"
    }
   ],
   "source": [
    "np.squeeze(crash)"
   ]
  },
  {
   "cell_type": "code",
   "execution_count": 96,
   "metadata": {},
   "outputs": [],
   "source": [
    "def compute_R(events,tau_max=1000,dtau=1):\n",
    "    taus=range(1,tau_max,dtau)\n",
    "    events_mid_shifted=events[\"mid\"]\n",
    "    R=[]\n",
    "    R_plus=[]\n",
    "    R_minus=[]\n",
    "    for tau in taus:\n",
    "        events_mid_shifted=events_mid_shifted.shift(dtau)\n",
    "        R.append(np.nanmean(-events[\"s\"]*(events_mid_shifted-events[\"mid\"])))  # - sign instead of shift(-dtau)\n",
    "    return np.array(R)"
   ]
  },
  {
   "cell_type": "code",
   "execution_count": null,
   "metadata": {},
   "outputs": [],
   "source": [
    "coarse_factor=5\n",
    "events_06[\"dt\"]=coarse_factor*((events_06.index.hour*60+events_06.index.minute)//coarse_factor)/60                            # chunks of 15 minutes\n",
    "R_06_dt=events_06[[\"s\",\"mid\"]].groupby(events_06[\"dt\"]).apply(compute_R,tau_max=10)\n",
    "R_06_dt_plus=events_06[[\"s\",\"mid\"]][events_06[\"s\"]>0].groupby(events_06[\"dt\"]).apply(compute_R,tau_max=10)\n",
    "R_06_dt_minus=events_06[[\"s\",\"mid\"]][events_06[\"s\"]<0].groupby(events_06[\"dt\"]).apply(compute_R,tau_max=10)"
   ]
  },
  {
   "cell_type": "code",
   "execution_count": null,
   "metadata": {},
   "outputs": [],
   "source": []
  },
  {
   "cell_type": "code",
   "execution_count": null,
   "metadata": {},
   "outputs": [],
   "source": []
  },
  {
   "cell_type": "code",
   "execution_count": 78,
   "metadata": {},
   "outputs": [],
   "source": [
    "import pandas\n",
    "from math import *\n",
    "import math\n",
    "import numpy as np\n",
    "\n",
    "def std(list):\n",
    "    element = 0 \n",
    "    for item in list:\n",
    "        element = element + float((item**2)/( len(list)))\n",
    "    return math.sqrt(element)\n",
    "\n",
    "def phi(x):\n",
    "    #'Cumulative distribution function for the standard normal distribution'\n",
    "    return (1.0 + erf(x / sqrt(2.0))) / 2.0\n",
    "\n",
    "def calx(v_i,delta_p_i,sigma):\n",
    "    x = v_i * phi(delta_p_i/sigma)\n",
    "    return x"
   ]
  },
  {
   "cell_type": "code",
   "execution_count": 84,
   "metadata": {},
   "outputs": [],
   "source": [
    "df = btc"
   ]
  },
  {
   "cell_type": "code",
   "execution_count": 86,
   "metadata": {},
   "outputs": [
    {
     "data": {
      "text/html": [
       "<div>\n",
       "<style scoped>\n",
       "    .dataframe tbody tr th:only-of-type {\n",
       "        vertical-align: middle;\n",
       "    }\n",
       "\n",
       "    .dataframe tbody tr th {\n",
       "        vertical-align: top;\n",
       "    }\n",
       "\n",
       "    .dataframe thead th {\n",
       "        text-align: right;\n",
       "    }\n",
       "</style>\n",
       "<table border=\"1\" class=\"dataframe\">\n",
       "  <thead>\n",
       "    <tr style=\"text-align: right;\">\n",
       "      <th></th>\n",
       "      <th>time</th>\n",
       "      <th>open</th>\n",
       "      <th>close</th>\n",
       "      <th>high</th>\n",
       "      <th>low</th>\n",
       "      <th>volume</th>\n",
       "      <th>ticker</th>\n",
       "    </tr>\n",
       "  </thead>\n",
       "  <tbody>\n",
       "    <tr>\n",
       "      <th>2013-04-01 00:07:00</th>\n",
       "      <td>1364774820000</td>\n",
       "      <td>93.25</td>\n",
       "      <td>93.30</td>\n",
       "      <td>93.30</td>\n",
       "      <td>93.25</td>\n",
       "      <td>93.300000</td>\n",
       "      <td>BTCUSD</td>\n",
       "    </tr>\n",
       "    <tr>\n",
       "      <th>2013-04-01 00:08:00</th>\n",
       "      <td>1364774880000</td>\n",
       "      <td>100.00</td>\n",
       "      <td>100.00</td>\n",
       "      <td>100.00</td>\n",
       "      <td>100.00</td>\n",
       "      <td>93.300000</td>\n",
       "      <td>BTCUSD</td>\n",
       "    </tr>\n",
       "    <tr>\n",
       "      <th>2013-04-01 00:09:00</th>\n",
       "      <td>1364774940000</td>\n",
       "      <td>93.30</td>\n",
       "      <td>93.30</td>\n",
       "      <td>93.30</td>\n",
       "      <td>93.30</td>\n",
       "      <td>33.676862</td>\n",
       "      <td>BTCUSD</td>\n",
       "    </tr>\n",
       "    <tr>\n",
       "      <th>2013-04-01 00:11:00</th>\n",
       "      <td>1364775060000</td>\n",
       "      <td>93.35</td>\n",
       "      <td>93.47</td>\n",
       "      <td>93.47</td>\n",
       "      <td>93.35</td>\n",
       "      <td>20.000000</td>\n",
       "      <td>BTCUSD</td>\n",
       "    </tr>\n",
       "    <tr>\n",
       "      <th>2013-04-01 00:12:00</th>\n",
       "      <td>1364775120000</td>\n",
       "      <td>93.47</td>\n",
       "      <td>93.47</td>\n",
       "      <td>93.47</td>\n",
       "      <td>93.47</td>\n",
       "      <td>2.021627</td>\n",
       "      <td>BTCUSD</td>\n",
       "    </tr>\n",
       "  </tbody>\n",
       "</table>\n",
       "</div>"
      ],
      "text/plain": [
       "                              time    open   close    high     low     volume  \\\n",
       "2013-04-01 00:07:00  1364774820000   93.25   93.30   93.30   93.25  93.300000   \n",
       "2013-04-01 00:08:00  1364774880000  100.00  100.00  100.00  100.00  93.300000   \n",
       "2013-04-01 00:09:00  1364774940000   93.30   93.30   93.30   93.30  33.676862   \n",
       "2013-04-01 00:11:00  1364775060000   93.35   93.47   93.47   93.35  20.000000   \n",
       "2013-04-01 00:12:00  1364775120000   93.47   93.47   93.47   93.47   2.021627   \n",
       "\n",
       "                     ticker  \n",
       "2013-04-01 00:07:00  BTCUSD  \n",
       "2013-04-01 00:08:00  BTCUSD  \n",
       "2013-04-01 00:09:00  BTCUSD  \n",
       "2013-04-01 00:11:00  BTCUSD  \n",
       "2013-04-01 00:12:00  BTCUSD  "
      ]
     },
     "execution_count": 86,
     "metadata": {},
     "output_type": "execute_result"
    }
   ],
   "source": [
    "btc.head()"
   ]
  },
  {
   "cell_type": "code",
   "execution_count": 91,
   "metadata": {},
   "outputs": [
    {
     "data": {
      "text/plain": [
       "array([datetime.time(0, 7), datetime.time(0, 8), datetime.time(0, 9), ...,\n",
       "       datetime.time(15, 7), datetime.time(15, 8), datetime.time(15, 9)],\n",
       "      dtype=object)"
      ]
     },
     "execution_count": 91,
     "metadata": {},
     "output_type": "execute_result"
    }
   ],
   "source": [
    "df.index.dat"
   ]
  },
  {
   "cell_type": "code",
   "execution_count": 93,
   "metadata": {},
   "outputs": [],
   "source": [
    "high = df[\"high\"].tolist()\n",
    "low = df[\"low\"].tolist()\n",
    "vol = df[\"volume\"].tolist()\n",
    "date = df.index.date.tolist()\n",
    "time = df.index.time.tolist()\n",
    "sigma = np.std(df.close) #calculate standard deviation\n",
    "totalvol = sum(vol)"
   ]
  },
  {
   "cell_type": "code",
   "execution_count": 95,
   "metadata": {},
   "outputs": [
    {
     "ename": "KeyError",
     "evalue": "'date'",
     "output_type": "error",
     "traceback": [
      "\u001b[1;31m---------------------------------------------------------------------------\u001b[0m",
      "\u001b[1;31mKeyError\u001b[0m                                  Traceback (most recent call last)",
      "\u001b[1;32m~\\Anaconda3\\lib\\site-packages\\pandas\\core\\indexes\\base.py\u001b[0m in \u001b[0;36mget_loc\u001b[1;34m(self, key, method, tolerance)\u001b[0m\n\u001b[0;32m   2897\u001b[0m             \u001b[1;32mtry\u001b[0m\u001b[1;33m:\u001b[0m\u001b[1;33m\u001b[0m\u001b[1;33m\u001b[0m\u001b[0m\n\u001b[1;32m-> 2898\u001b[1;33m                 \u001b[1;32mreturn\u001b[0m \u001b[0mself\u001b[0m\u001b[1;33m.\u001b[0m\u001b[0m_engine\u001b[0m\u001b[1;33m.\u001b[0m\u001b[0mget_loc\u001b[0m\u001b[1;33m(\u001b[0m\u001b[0mcasted_key\u001b[0m\u001b[1;33m)\u001b[0m\u001b[1;33m\u001b[0m\u001b[1;33m\u001b[0m\u001b[0m\n\u001b[0m\u001b[0;32m   2899\u001b[0m             \u001b[1;32mexcept\u001b[0m \u001b[0mKeyError\u001b[0m \u001b[1;32mas\u001b[0m \u001b[0merr\u001b[0m\u001b[1;33m:\u001b[0m\u001b[1;33m\u001b[0m\u001b[1;33m\u001b[0m\u001b[0m\n",
      "\u001b[1;32mpandas\\_libs\\index.pyx\u001b[0m in \u001b[0;36mpandas._libs.index.IndexEngine.get_loc\u001b[1;34m()\u001b[0m\n",
      "\u001b[1;32mpandas\\_libs\\index.pyx\u001b[0m in \u001b[0;36mpandas._libs.index.IndexEngine.get_loc\u001b[1;34m()\u001b[0m\n",
      "\u001b[1;32mpandas\\_libs\\hashtable_class_helper.pxi\u001b[0m in \u001b[0;36mpandas._libs.hashtable.PyObjectHashTable.get_item\u001b[1;34m()\u001b[0m\n",
      "\u001b[1;32mpandas\\_libs\\hashtable_class_helper.pxi\u001b[0m in \u001b[0;36mpandas._libs.hashtable.PyObjectHashTable.get_item\u001b[1;34m()\u001b[0m\n",
      "\u001b[1;31mKeyError\u001b[0m: 'date'",
      "\nThe above exception was the direct cause of the following exception:\n",
      "\u001b[1;31mKeyError\u001b[0m                                  Traceback (most recent call last)",
      "\u001b[1;32m<ipython-input-95-713b49afeb92>\u001b[0m in \u001b[0;36m<module>\u001b[1;34m\u001b[0m\n\u001b[0;32m      2\u001b[0m \u001b[0mvpin\u001b[0m\u001b[1;33m=\u001b[0m\u001b[1;33m[\u001b[0m\u001b[1;33m]\u001b[0m\u001b[1;33m\u001b[0m\u001b[1;33m\u001b[0m\u001b[0m\n\u001b[0;32m      3\u001b[0m \u001b[1;32mfor\u001b[0m \u001b[0meachdate\u001b[0m \u001b[1;32min\u001b[0m \u001b[0mdateset\u001b[0m\u001b[1;33m:\u001b[0m\u001b[1;33m\u001b[0m\u001b[1;33m\u001b[0m\u001b[0m\n\u001b[1;32m----> 4\u001b[1;33m     \u001b[0mdateslice\u001b[0m \u001b[1;33m=\u001b[0m \u001b[0mdf\u001b[0m\u001b[1;33m[\u001b[0m\u001b[0mnp\u001b[0m\u001b[1;33m.\u001b[0m\u001b[0mlogical_not\u001b[0m\u001b[1;33m(\u001b[0m\u001b[0mdf\u001b[0m\u001b[1;33m[\u001b[0m\u001b[1;34m'date'\u001b[0m\u001b[1;33m]\u001b[0m \u001b[1;33m!=\u001b[0m \u001b[0meachdate\u001b[0m\u001b[1;33m)\u001b[0m\u001b[1;33m]\u001b[0m\u001b[1;33m\u001b[0m\u001b[1;33m\u001b[0m\u001b[0m\n\u001b[0m\u001b[0;32m      5\u001b[0m     \u001b[0mdatevol\u001b[0m \u001b[1;33m=\u001b[0m \u001b[0mdataslice\u001b[0m\u001b[1;33m[\u001b[0m\u001b[1;34m'vol'\u001b[0m\u001b[1;33m]\u001b[0m\u001b[1;33m.\u001b[0m\u001b[0msum\u001b[0m\u001b[1;33m(\u001b[0m\u001b[1;33m)\u001b[0m\u001b[1;33m\u001b[0m\u001b[1;33m\u001b[0m\u001b[0m\n\u001b[0;32m      6\u001b[0m     \u001b[0mvbs\u001b[0m \u001b[1;33m=\u001b[0m \u001b[0mdatevol\u001b[0m\u001b[1;33m/\u001b[0m\u001b[1;36m50\u001b[0m\u001b[1;33m\u001b[0m\u001b[1;33m\u001b[0m\u001b[0m\n",
      "\u001b[1;32m~\\Anaconda3\\lib\\site-packages\\pandas\\core\\frame.py\u001b[0m in \u001b[0;36m__getitem__\u001b[1;34m(self, key)\u001b[0m\n\u001b[0;32m   2904\u001b[0m             \u001b[1;32mif\u001b[0m \u001b[0mself\u001b[0m\u001b[1;33m.\u001b[0m\u001b[0mcolumns\u001b[0m\u001b[1;33m.\u001b[0m\u001b[0mnlevels\u001b[0m \u001b[1;33m>\u001b[0m \u001b[1;36m1\u001b[0m\u001b[1;33m:\u001b[0m\u001b[1;33m\u001b[0m\u001b[1;33m\u001b[0m\u001b[0m\n\u001b[0;32m   2905\u001b[0m                 \u001b[1;32mreturn\u001b[0m \u001b[0mself\u001b[0m\u001b[1;33m.\u001b[0m\u001b[0m_getitem_multilevel\u001b[0m\u001b[1;33m(\u001b[0m\u001b[0mkey\u001b[0m\u001b[1;33m)\u001b[0m\u001b[1;33m\u001b[0m\u001b[1;33m\u001b[0m\u001b[0m\n\u001b[1;32m-> 2906\u001b[1;33m             \u001b[0mindexer\u001b[0m \u001b[1;33m=\u001b[0m \u001b[0mself\u001b[0m\u001b[1;33m.\u001b[0m\u001b[0mcolumns\u001b[0m\u001b[1;33m.\u001b[0m\u001b[0mget_loc\u001b[0m\u001b[1;33m(\u001b[0m\u001b[0mkey\u001b[0m\u001b[1;33m)\u001b[0m\u001b[1;33m\u001b[0m\u001b[1;33m\u001b[0m\u001b[0m\n\u001b[0m\u001b[0;32m   2907\u001b[0m             \u001b[1;32mif\u001b[0m \u001b[0mis_integer\u001b[0m\u001b[1;33m(\u001b[0m\u001b[0mindexer\u001b[0m\u001b[1;33m)\u001b[0m\u001b[1;33m:\u001b[0m\u001b[1;33m\u001b[0m\u001b[1;33m\u001b[0m\u001b[0m\n\u001b[0;32m   2908\u001b[0m                 \u001b[0mindexer\u001b[0m \u001b[1;33m=\u001b[0m \u001b[1;33m[\u001b[0m\u001b[0mindexer\u001b[0m\u001b[1;33m]\u001b[0m\u001b[1;33m\u001b[0m\u001b[1;33m\u001b[0m\u001b[0m\n",
      "\u001b[1;32m~\\Anaconda3\\lib\\site-packages\\pandas\\core\\indexes\\base.py\u001b[0m in \u001b[0;36mget_loc\u001b[1;34m(self, key, method, tolerance)\u001b[0m\n\u001b[0;32m   2898\u001b[0m                 \u001b[1;32mreturn\u001b[0m \u001b[0mself\u001b[0m\u001b[1;33m.\u001b[0m\u001b[0m_engine\u001b[0m\u001b[1;33m.\u001b[0m\u001b[0mget_loc\u001b[0m\u001b[1;33m(\u001b[0m\u001b[0mcasted_key\u001b[0m\u001b[1;33m)\u001b[0m\u001b[1;33m\u001b[0m\u001b[1;33m\u001b[0m\u001b[0m\n\u001b[0;32m   2899\u001b[0m             \u001b[1;32mexcept\u001b[0m \u001b[0mKeyError\u001b[0m \u001b[1;32mas\u001b[0m \u001b[0merr\u001b[0m\u001b[1;33m:\u001b[0m\u001b[1;33m\u001b[0m\u001b[1;33m\u001b[0m\u001b[0m\n\u001b[1;32m-> 2900\u001b[1;33m                 \u001b[1;32mraise\u001b[0m \u001b[0mKeyError\u001b[0m\u001b[1;33m(\u001b[0m\u001b[0mkey\u001b[0m\u001b[1;33m)\u001b[0m \u001b[1;32mfrom\u001b[0m \u001b[0merr\u001b[0m\u001b[1;33m\u001b[0m\u001b[1;33m\u001b[0m\u001b[0m\n\u001b[0m\u001b[0;32m   2901\u001b[0m \u001b[1;33m\u001b[0m\u001b[0m\n\u001b[0;32m   2902\u001b[0m         \u001b[1;32mif\u001b[0m \u001b[0mtolerance\u001b[0m \u001b[1;32mis\u001b[0m \u001b[1;32mnot\u001b[0m \u001b[1;32mNone\u001b[0m\u001b[1;33m:\u001b[0m\u001b[1;33m\u001b[0m\u001b[1;33m\u001b[0m\u001b[0m\n",
      "\u001b[1;31mKeyError\u001b[0m: 'date'"
     ]
    }
   ],
   "source": [
    "dateset = tuple(set(date))\n",
    "vpin=[]\n",
    "for eachdate in dateset:\n",
    "    dateslice = df[np.logical_not(df != eachdate)]\n",
    "    datevol = dataslice['vol'].sum()\n",
    "    vbs = datevol/50\n",
    "    \n",
    "    '''list to store results'''\n",
    "    delta_p_i = []\n",
    "    v_i = []\n",
    "    x=[]\n",
    "    \n",
    "    '''convert slice to list'''\n",
    "    highslice = dateslice[\"high\"].tolist()\n",
    "    lowslice = dateslice[\"low\"].tolist()\n",
    "    volslice = dateslice[\"vol\"].tolist()\n",
    "    \n",
    "    '''generate basket'''\n",
    "    highbas=[]\n",
    "    lowbas=[]\n",
    "    volbas=[]\n",
    "    \n",
    "    '''start filling basket'''\n",
    "    for i in range(len(dateslice.index)):\n",
    "        highbas.append(highslice[i])\n",
    "        lowbas.append(lowslice[i])\n",
    "        volbas.append(volslice[i])\n",
    "        '''pop last element if vol exceeds.'''\n",
    "        if sum(volbas) > vbs:\n",
    "            v_i.append(sum(volbas[0:-1]))  \n",
    "            delta_p_i.append(abs(max(highbas)-min(lowbas)))\n",
    "            highbas = highbas[-1:] \n",
    "            lowbas = lowbas[-1:]\n",
    "            volbas = volbas[-1:]\n",
    "    for i in range(len(v_i)):\n",
    "        x.append(calx(v_i[i],delta_p_i[i],sigma))\n",
    "    v_tau_b=sum(x)\n",
    "    dateitem= abs(2*v_tau_b - vbs)\n",
    "    vpin.append(dateitem/totalvol)"
   ]
  },
  {
   "cell_type": "code",
   "execution_count": null,
   "metadata": {},
   "outputs": [],
   "source": []
  }
 ],
 "metadata": {
  "kernelspec": {
   "display_name": "Python 3",
   "language": "python",
   "name": "python3"
  },
  "language_info": {
   "codemirror_mode": {
    "name": "ipython",
    "version": 3
   },
   "file_extension": ".py",
   "mimetype": "text/x-python",
   "name": "python",
   "nbconvert_exporter": "python",
   "pygments_lexer": "ipython3",
   "version": "3.7.4"
  }
 },
 "nbformat": 4,
 "nbformat_minor": 4
}
